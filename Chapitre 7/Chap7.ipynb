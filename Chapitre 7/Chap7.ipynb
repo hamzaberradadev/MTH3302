{
 "cells": [
  {
   "cell_type": "markdown",
   "metadata": {},
   "source": [
    "# MTH3302 : Méthodes probabilistes et statistiques pour l'I.A.\n",
    "\n",
    "Jonathan Jalbert<br/>\n",
    "Professeur agrégé au Département de mathématiques et de génie industriel<br/>\n",
    "Polytechnique Montréal<br/>\n",
    "\n",
    "\n",
    "# Chapitre 7 - Régression linéaire bayésienne\n",
    "\n",
    "\n",
    "\n",
    "\n",
    "## Contexte : Poids des perchaudes du lac Laengelmavesi\n",
    "\n",
    "Le fichier *fishweights.csv* contient les caractéristiques de 158 poissons péchés dans le lac Laengelmavesi en Finlande. Nous étudierons le poids (Weight en grammes) des poissons en fonction de variables explicatives suivantes :\n",
    "- l'espèce de poisson (species) ;\n",
    "- la longueur standard (StandardLength) ;\n",
    "- la longeur non standard  (NonStandardLength) ;\n",
    "- la longueur totale (TotalLength) ;\n",
    "- la hauteur (Height) ;\n",
    "- la largeur (Width).\n",
    "\n",
    "\n",
    "          ___/////___                  _\n",
    "         /           \\    ___          |\n",
    "       /\\             \\_ /  /          H\n",
    "     <   )            __)  \\           |\n",
    "       \\/_\\\\_________/   \\__\\          _\n",
    "\n",
    "     |------- SL -------|\n",
    "     |------- NSL ---------|\n",
    "     |------- TL ------------|"
   ]
  },
  {
   "cell_type": "code",
   "execution_count": 1,
   "metadata": {},
   "outputs": [],
   "source": [
    "using CSV \n",
    "using DataFrames\n",
    "using Distributions\n",
    "using Gadfly\n",
    "using LinearAlgebra\n",
    "import Random\n",
    "using Statistics\n",
    "import StatsBase"
   ]
  },
  {
   "cell_type": "code",
   "execution_count": 2,
   "metadata": {},
   "outputs": [],
   "source": [
    "# using Cairo, Fontconfig"
   ]
  },
  {
   "cell_type": "markdown",
   "metadata": {},
   "source": [
    "# Chargement des données\n",
    "\n",
    "- Chargement du jeux de données\n",
    "- Transformation du poids par la racine cubique pour linéariser la relation (voir le TD4)"
   ]
  },
  {
   "cell_type": "code",
   "execution_count": null,
   "metadata": {},
   "outputs": [],
   "source": [
    "data = CSV.read(\"fishweights.csv\", DataFrame)\n",
    "data[!,:Weight] = data[:,:Weight] .^(1/3)\n",
    "first(data,10)"
   ]
  },
  {
   "cell_type": "markdown",
   "metadata": {},
   "source": [
    "## Sélection des perches"
   ]
  },
  {
   "cell_type": "code",
   "execution_count": null,
   "metadata": {},
   "outputs": [],
   "source": [
    "filter!(row -> row.Species==\"Perche\", data)\n",
    "first(data,10)"
   ]
  },
  {
   "cell_type": "markdown",
   "metadata": {},
   "source": [
    "## Création du jeux de données d'entraînement et de validation"
   ]
  },
  {
   "cell_type": "code",
   "execution_count": null,
   "metadata": {},
   "outputs": [],
   "source": [
    "Random.seed!(123)\n",
    "train_id = sample(1:nrow(data), 44, replace=false, ordered=true)\n",
    "valid_id = setdiff(1:nrow(data), train_id)\n",
    "\n",
    "train = data[train_id, :]\n",
    "valid = data[valid_id, :]"
   ]
  },
  {
   "cell_type": "markdown",
   "metadata": {},
   "source": [
    "# 7.2 Régression bayésienne avec une loi *a priori* non informative"
   ]
  },
  {
   "cell_type": "code",
   "execution_count": null,
   "metadata": {},
   "outputs": [],
   "source": [
    "y = train.Weight\n",
    "\n",
    "n = length(y)\n",
    "\n",
    "X = hcat(ones(n), train.StandardLength)\n",
    "\n",
    "m = size(X,2)\n",
    "\n",
    "β̂ = X\\y\n",
    "println(\"β̂ = \", β̂)\n",
    "\n",
    "s² = 1/(n-m) * (y-X*β̂)'*(y-X*β̂)\n",
    "println(\"s² = \", s²)\n",
    "\n",
    "Σ = Symmetric(inv(X'X))"
   ]
  },
  {
   "cell_type": "markdown",
   "metadata": {},
   "source": [
    "## 7.2.1 Lois conditionnelles complètes"
   ]
  },
  {
   "cell_type": "code",
   "execution_count": null,
   "metadata": {},
   "outputs": [],
   "source": [
    "f₁(σ²::Real) = MvNormal(β̂,σ²*Σ)\n",
    "f₂(β::Vector{<:Real}) = InverseGamma(n/2, .5(y-X*β)'*(y-X*β)) "
   ]
  },
  {
   "cell_type": "code",
   "execution_count": null,
   "metadata": {},
   "outputs": [],
   "source": [
    "niter = 10000\n",
    "\n",
    "β = Array{Float64}(undef, 2, niter)\n",
    "σ² = Array{Float64}(undef, niter)\n",
    "\n",
    "β[:,1] = [0, .2]\n",
    "σ²[1] = .25\n",
    "\n",
    "for j in 2:niter\n",
    "    β[:,j] = rand(f₁(σ²[j-1]))\n",
    "    σ²[j] = rand(f₂(β[:,j]))\n",
    "end"
   ]
  },
  {
   "cell_type": "code",
   "execution_count": null,
   "metadata": {},
   "outputs": [],
   "source": [
    "fig = plot(y=β[1,:], Geom.line, Guide.xlabel(\"Itération\"), Guide.ylabel(\"β₀\"))\n",
    "# draw(PDF(\"trace_beta0.pdf\"), fig)"
   ]
  },
  {
   "cell_type": "code",
   "execution_count": null,
   "metadata": {},
   "outputs": [],
   "source": [
    "# intervalle de crédibilité à 95% de β₀ estimé à partir de l'échantillon aléatoire généré\n",
    "quantile(β[1,:], [.025, .975])"
   ]
  },
  {
   "cell_type": "code",
   "execution_count": null,
   "metadata": {},
   "outputs": [],
   "source": [
    "fig = plot(y=β[2,:], Geom.line, Guide.xlabel(\"Itération\"), Guide.ylabel(\"β₁\"))\n",
    "# draw(PDF(\"trace_beta1.pdf\"), fig)"
   ]
  },
  {
   "cell_type": "code",
   "execution_count": null,
   "metadata": {},
   "outputs": [],
   "source": [
    "fig = plot(y=σ², Geom.line, Guide.xlabel(\"Itération\"), Guide.ylabel(\"σ²\"))\n",
    "# draw(PDF(\"trace_sigma2.pdf\"), fig)"
   ]
  },
  {
   "cell_type": "code",
   "execution_count": null,
   "metadata": {},
   "outputs": [],
   "source": [
    "# Retrait des itérations de chauffe\n",
    "β = β[:, 101:end]\n",
    "σ² = σ²[101:end];"
   ]
  },
  {
   "cell_type": "markdown",
   "metadata": {},
   "source": [
    "## 7.2.2 Lois marginales"
   ]
  },
  {
   "cell_type": "code",
   "execution_count": null,
   "metadata": {},
   "outputs": [],
   "source": [
    "f = LocationScale(β̂[1], sqrt(s²*Σ[1,1]), TDist(n-m))\n",
    "\n",
    "fig = plot(Guide.xlabel(\"β₀\"), Guide.ylabel(\"Densité\"), Coord.cartesian(xmin=-.6, xmax=.5),\n",
    "    layer(x->pdf(f, x), -.6, .5, Theme(default_color=colorant\"red\")),\n",
    "    layer(x=β[1,:], Geom.histogram(density=true, bincount=30))\n",
    ")\n",
    "# draw(PDF(\"marg_beta0.pdf\"), fig)"
   ]
  },
  {
   "cell_type": "code",
   "execution_count": null,
   "metadata": {},
   "outputs": [],
   "source": [
    "f = LocationScale(β̂[2], sqrt(s²*Σ[2,2]), TDist(n-m))\n",
    "\n",
    "fig = plot(Guide.xlabel(\"β₁\"), Guide.ylabel(\"Densité\"),\n",
    "    layer(x->pdf(f, x), .24, .28, Theme(default_color=colorant\"red\")),\n",
    "    layer(x=β[2,:], Geom.histogram(density=true, bincount=30))\n",
    ")\n",
    "# draw(PDF(\"marg_beta1.pdf\"), fig)"
   ]
  },
  {
   "cell_type": "code",
   "execution_count": null,
   "metadata": {},
   "outputs": [],
   "source": [
    "f = InverseGamma((n-m)/2,(n-m)/2*s²)\n",
    "\n",
    "fig = plot(Guide.xlabel(\"σ²\"), Guide.ylabel(\"Densité\"),\n",
    "    layer(x->pdf(f, x), 0, .2, Theme(default_color=colorant\"red\")),\n",
    "    layer(x=σ², Geom.histogram(density=true, bincount=30))\n",
    ")\n",
    "# draw(PDF(\"marg_sigma2.pdf\"), fig)"
   ]
  },
  {
   "cell_type": "code",
   "execution_count": null,
   "metadata": {},
   "outputs": [],
   "source": [
    "fm = InverseGamma((n-m)/2,(n-m)/2*s²)\n",
    "σ̂² = mode(fm)\n",
    "\n",
    "fd = Normal.(X*β̂, sqrt(σ̂²))\n",
    "\n",
    "ll = sum(logpdf.(fd,y))\n",
    "bic = ll - (m+1)/2*log(n)"
   ]
  },
  {
   "cell_type": "markdown",
   "metadata": {},
   "source": [
    "## 7.2.3 Prédiction\n",
    "\n",
    "Prédiction du poids d'une perche de 20 cm"
   ]
  },
  {
   "cell_type": "code",
   "execution_count": null,
   "metadata": {},
   "outputs": [],
   "source": [
    "x₀ = 20\n",
    "\n",
    "y₀ = Float64[]\n",
    "\n",
    "for j in eachindex(σ²)\n",
    "    \n",
    "    pd = Normal(β[1,j] + β[2,j]*x₀, σ²[j])\n",
    "    \n",
    "    push!(y₀, rand(pd))\n",
    "    \n",
    "end"
   ]
  },
  {
   "cell_type": "code",
   "execution_count": null,
   "metadata": {},
   "outputs": [],
   "source": [
    "mean(y₀)"
   ]
  },
  {
   "cell_type": "code",
   "execution_count": null,
   "metadata": {},
   "outputs": [],
   "source": [
    "quantile(y₀, [.025, .975])"
   ]
  },
  {
   "cell_type": "code",
   "execution_count": null,
   "metadata": {},
   "outputs": [],
   "source": [
    "fig = plot(y=y₀, Geom.line, Guide.xlabel(\"Itération\"), Guide.ylabel(\"ŷ₀\"))\n",
    "# draw(PDF(\"trace_y0.pdf\"), fig)"
   ]
  },
  {
   "cell_type": "code",
   "execution_count": null,
   "metadata": {},
   "outputs": [],
   "source": [
    "fig = plot(x=y₀, Geom.histogram(density=true, bincount=30),\n",
    "    Guide.xlabel(\"y₀\"), Guide.ylabel(\"Densité\"))\n",
    "# draw(PDF(\"marg_y0.pdf\"), fig)"
   ]
  },
  {
   "cell_type": "markdown",
   "metadata": {},
   "source": [
    "## Exemple 6 : Recherche du meilleur modèle unidimensionnel "
   ]
  },
  {
   "cell_type": "code",
   "execution_count": null,
   "metadata": {},
   "outputs": [],
   "source": [
    "df = DataFrame(Variable = Symbol[], R² = Float64[], BIC = Float64[], RMSE = Float64[], )\n",
    "\n",
    "SST = y'y \n",
    "\n",
    "for v in Symbol.(names(train)[3:7])\n",
    "    \n",
    "    X = hcat(ones(n), train[:,v])\n",
    "    \n",
    "    m = size(X,2)\n",
    "    β̂ = X\\y\n",
    "    \n",
    "    e = (y-X*β̂)\n",
    "    SSE = e'e\n",
    "    s² = 1/(n-m-2) * SSE\n",
    "    \n",
    "    R² = round(1-SSE/SST, digits=4)\n",
    "\n",
    "    fd = Normal.(X*β̂, sqrt(s²))\n",
    "    bic = round(sum(logpdf.(fd,y)) - (m+1)/2*log(n), digits=2)\n",
    "    \n",
    "    X_valid = hcat(ones(nrow(valid)), valid[:,v])\n",
    "\n",
    "    ŷ = X_valid * β̂\n",
    "\n",
    "    rmse = round(StatsBase.rmsd(ŷ, valid.Weight), digits=4)\n",
    "    \n",
    "    push!(df, [v, R², bic, rmse])\n",
    "end\n",
    "\n",
    "sort!(df, :RMSE)"
   ]
  },
  {
   "cell_type": "markdown",
   "metadata": {},
   "source": [
    "# 7.3 Regression Ridge\n",
    "\n",
    "## Standardisation des variables\n",
    "\n",
    "La standardisation s'effectue avec les fonctions `fit()` et `transform()` de la librairie *StatsBase.jl*. Les données peuvent être remises à leur échelle originale avec la fonction `reconstruct()`."
   ]
  },
  {
   "cell_type": "code",
   "execution_count": null,
   "metadata": {},
   "outputs": [],
   "source": [
    "# Estimation des paramètres de la standardisation\n",
    "ty = StatsBase.fit(StatsBase.ZScoreTransform, train.Weight)\n",
    "\n",
    "# Standardisation des variables\n",
    "y = StatsBase.transform(ty, train.Weight)\n",
    "\n",
    "# Estimation des paramètres de la standardisation\n",
    "tx = StatsBase.fit(StatsBase.ZScoreTransform, Matrix{Float64}(train[:,3:7]), dims=1)\n",
    "\n",
    "# Standardisation des variables\n",
    "X = StatsBase.transform(tx, Matrix{Float64}(train[:,3:7]));"
   ]
  },
  {
   "cell_type": "markdown",
   "metadata": {},
   "source": [
    "## Estimation des paramètres "
   ]
  },
  {
   "cell_type": "code",
   "execution_count": null,
   "metadata": {},
   "outputs": [],
   "source": [
    "n = length(y)\n",
    "m = size(X,2)\n",
    "\n",
    "λ = 3.72\n",
    "\n",
    "β̂ᵣ = (X'X + λ*I)\\X'y\n",
    "\n",
    "s² = (y'y - β̂ᵣ'*(X'X + λ*I)*β̂ᵣ)/n\n",
    "\n",
    "Σ = Symmetric(inv(X'X+λ*I))\n",
    "\n",
    "\n",
    "println(\"β̂ᵣ = \", β̂ᵣ)\n",
    "println(\"s² = \", s²)\n"
   ]
  },
  {
   "cell_type": "markdown",
   "metadata": {},
   "source": [
    "## Échantillonnage de Gibbs "
   ]
  },
  {
   "cell_type": "code",
   "execution_count": null,
   "metadata": {},
   "outputs": [],
   "source": [
    "f₁(σ²::Real) = MvNormal(β̂ᵣ,σ²*Σ)\n",
    "f₂(β::Vector{<:Real}) = InverseGamma((n+m)/2, .5(y-X*β)'*(y-X*β) + .5*λ*β'β) "
   ]
  },
  {
   "cell_type": "code",
   "execution_count": null,
   "metadata": {},
   "outputs": [],
   "source": [
    "niter = 1000\n",
    "\n",
    "β = Array{Float64}(undef, m, niter)\n",
    "σ² = Array{Float64}(undef, niter)\n",
    "\n",
    "β[:,1] = zeros(m)\n",
    "σ²[1] = .05\n",
    "\n",
    "for j in 2:niter\n",
    "    β[:,j] = rand(f₁(σ²[j-1]))\n",
    "    σ²[j] = rand(f₂(β[:,j]))\n",
    "end"
   ]
  },
  {
   "cell_type": "code",
   "execution_count": null,
   "metadata": {},
   "outputs": [],
   "source": [
    "fig = plot(y=β[1,:], Geom.line, Guide.xlabel(\"Itération\"), Guide.ylabel(\"β₁\"))"
   ]
  },
  {
   "cell_type": "code",
   "execution_count": null,
   "metadata": {},
   "outputs": [],
   "source": [
    "fig = plot(y=β[4,:], Geom.line, Guide.xlabel(\"Itération\"), Guide.ylabel(\"β₄\"))"
   ]
  },
  {
   "cell_type": "code",
   "execution_count": null,
   "metadata": {},
   "outputs": [],
   "source": [
    "fig = plot(y=σ², Geom.line, Guide.xlabel(\"Itération\"), Guide.ylabel(\"σ²\"))"
   ]
  },
  {
   "cell_type": "code",
   "execution_count": null,
   "metadata": {},
   "outputs": [],
   "source": [
    "# Retrait des itérations de la phase de chauffe\n",
    "\n",
    "β = β[:, 101:1000]\n",
    "σ² = σ²[101:1000];"
   ]
  },
  {
   "cell_type": "markdown",
   "metadata": {},
   "source": [
    "## Lois marginales"
   ]
  },
  {
   "cell_type": "code",
   "execution_count": null,
   "metadata": {},
   "outputs": [],
   "source": [
    "f = LocationScale(β̂ᵣ[1], sqrt(s²*Σ[1,1]), TDist(n))\n",
    "\n",
    "fig = plot(Guide.xlabel(\"β₁\"), Guide.ylabel(\"Densité\"), Coord.cartesian(xmin=-.6, xmax=.75),\n",
    "    layer(x->pdf(f, x), -.6, .75, Theme(default_color=colorant\"red\")),\n",
    "    layer(x=β[1,:], Geom.histogram(density=true, bincount=30))\n",
    ")\n",
    "# draw(PDF(\"marg_beta0.pdf\"), fig)"
   ]
  },
  {
   "cell_type": "code",
   "execution_count": null,
   "metadata": {},
   "outputs": [],
   "source": [
    "f = LocationScale(β̂ᵣ[5], sqrt(s²*Σ[5,5]), TDist(n))\n",
    "\n",
    "fig = plot(Guide.xlabel(\"β₅\"), Guide.ylabel(\"Densité\"), Coord.cartesian(xmin=0, xmax=.5),\n",
    "    layer(x->pdf(f, x), 0, .5, Theme(default_color=colorant\"red\")),\n",
    "    layer(x=β[5,:], Geom.histogram(density=true, bincount=30))\n",
    ")"
   ]
  },
  {
   "cell_type": "code",
   "execution_count": null,
   "metadata": {},
   "outputs": [],
   "source": [
    "f = InverseGamma(n/2,n*s²/2)\n",
    "\n",
    "fig = plot(Guide.xlabel(\"σ²\"), Guide.ylabel(\"Densité\"),\n",
    "    layer(x->pdf(f, x), .01, .05, Theme(default_color=colorant\"red\")),\n",
    "    layer(x=σ², Geom.histogram(density=true, bincount=30))\n",
    ")"
   ]
  },
  {
   "cell_type": "markdown",
   "metadata": {},
   "source": [
    "## Trace des coefficients de régression en fonction de λ"
   ]
  },
  {
   "cell_type": "code",
   "execution_count": null,
   "metadata": {},
   "outputs": [],
   "source": [
    "df = DataFrame(λ = Float64[], β₁ = Float64[], β₂ = Float64[], β₃ = Float64[], β₄ = Float64[], β₅ = Float64[])\n",
    "\n",
    "for λ in 0:.01:6\n",
    "\n",
    "    β̂ = (X'X + λ*I)\\X'y\n",
    "    \n",
    "    push!(df, [λ, β̂...])\n",
    "    \n",
    "end"
   ]
  },
  {
   "cell_type": "code",
   "execution_count": null,
   "metadata": {},
   "outputs": [],
   "source": [
    "trace = stack(df, Not(:λ))\n",
    "rename!(trace, :variable => :Paramètre, :value => :Estimation)\n",
    "\n",
    "set_default_plot_size(12cm, 8cm)\n",
    "fig = plot(trace, x=:λ, y=:Estimation, color=:Paramètre, Geom.line,\n",
    "    Coord.cartesian(xmin=0, xmax=6, ymin=-.5, ymax=.5))\n",
    "\n",
    "# draw(PDF(\"trace_lambda.pdf\"), fig)"
   ]
  },
  {
   "cell_type": "markdown",
   "metadata": {},
   "source": [
    "## Spécification de λ\n",
    "\n",
    "La valeur de λ choisie est celle qui minimise l'erreur de prédiction (rmse) sur l'échantillon de validation."
   ]
  },
  {
   "cell_type": "code",
   "execution_count": null,
   "metadata": {},
   "outputs": [],
   "source": [
    "# Tansformation des variables ex,plicatives de l'échantillon de validation\n",
    "X_valid = StatsBase.transform(tx, Matrix{Float64}(valid[:,3:7]));\n",
    "\n",
    "# Prédictions retransformées dans l'espaces originales\n",
    "ŷ = StatsBase.reconstruct(ty, X_valid*β̂ᵣ)"
   ]
  },
  {
   "cell_type": "code",
   "execution_count": null,
   "metadata": {},
   "outputs": [],
   "source": [
    "# RMSE pour la valeur de lambda\n",
    "\n",
    "StatsBase.msd(ŷ, valid.Weight)"
   ]
  },
  {
   "cell_type": "code",
   "execution_count": null,
   "metadata": {},
   "outputs": [],
   "source": []
  },
  {
   "cell_type": "code",
   "execution_count": null,
   "metadata": {},
   "outputs": [],
   "source": [
    "df2 = DataFrame(λ = Float64[], mse = Float64[], rmse = Float64[])\n",
    "\n",
    "# Tansformation des variables explicatives de l'échantillon de validation\n",
    "X_valid = StatsBase.transform(tx, Matrix{Float64}(valid[:,3:7]));\n",
    "\n",
    "for λ in 0:.01:6\n",
    "\n",
    "    # Estimation des coefficients de régression ridge\n",
    "    β̂ = (X'X + λ*I)\\X'y\n",
    "    \n",
    "    # Prédictions retransformées dans l'espaces originales\n",
    "    ŷ = StatsBase.reconstruct(ty, X_valid*β̂)\n",
    "    \n",
    "    # Calcul du mse\n",
    "    mse = StatsBase.msd(ŷ, valid.Weight)\n",
    "    \n",
    "    # Calcul du rmse\n",
    "    rmse = StatsBase.rmsd(ŷ, valid.Weight)\n",
    "    \n",
    "    push!(df2, [λ, mse, rmse])\n",
    "    \n",
    "end"
   ]
  },
  {
   "cell_type": "code",
   "execution_count": null,
   "metadata": {},
   "outputs": [],
   "source": [
    "set_default_plot_size(21cm, 8cm)\n",
    "hstack(\n",
    "    plot(df2, x=:λ, y=:mse, Geom.line),\n",
    "    plot(df2, x=:λ, y=:rmse, Geom.line),\n",
    "    )"
   ]
  },
  {
   "cell_type": "code",
   "execution_count": null,
   "metadata": {},
   "outputs": [],
   "source": [
    "set_default_plot_size(10.5cm, 8cm)\n",
    "fig = plot(df2, x=:λ, y=:rmse, Geom.line)\n",
    "# draw(PDF(\"rmse_lambda.pdf\"), fig)"
   ]
  },
  {
   "cell_type": "code",
   "execution_count": null,
   "metadata": {},
   "outputs": [],
   "source": [
    "sort!(df2, :rmse)\n",
    "first(df2, 10)"
   ]
  },
  {
   "cell_type": "code",
   "execution_count": null,
   "metadata": {},
   "outputs": [],
   "source": []
  }
 ],
 "metadata": {
  "@webio": {
   "lastCommId": null,
   "lastKernelId": null
  },
  "kernelspec": {
   "display_name": "Julia 1.9.3",
   "language": "julia",
   "name": "julia-1.9"
  },
  "language_info": {
   "file_extension": ".jl",
   "mimetype": "application/julia",
   "name": "julia",
   "version": "1.9.3"
  }
 },
 "nbformat": 4,
 "nbformat_minor": 2
}
