{
 "cells": [
  {
   "cell_type": "markdown",
   "metadata": {},
   "source": [
    "# MTH3302 : Méthodes probabilistes et statistiques pour l'I.A.\n",
    "\n",
    "Jonathan Jalbert<br/>\n",
    "Professeur agrégé au Département de mathématiques et de génie industriel<br/>\n",
    "Polytechnique Montréal<br/>\n",
    "\n",
    "\n",
    "# TD4 - Régression linéaire\n",
    "\n",
    "Ce TD concerne la régression linéaire (Chapitre 2 du cours). À la fin de ce TD, vous devriez être avoir été en mesure de :\n",
    "- Choisir un modèle sur la base de l'estimation ou de la prédiction.\n",
    "- Vérifier pour la présence de multicolinéarité.\n",
    "- Transformer les variables pour modéliser des relations non-linéaires.\n",
    "\n",
    "\n",
    "## Contexte : Poids des poissons\n",
    "\n",
    "Le fichier *fishweights.csv* contient les caractéristiques de 158 poissons péchés dans le lac Laengelmavesi en Finlande. Nous étudierons le poids (Weight en grammes) des poissons en fonction de variables explicatives suivantes :\n",
    "- l'espèce de poisson (species) ;\n",
    "- la longueur standard (StandardLength) ;\n",
    "- la longeur non standard  (NonStandardLength) ;\n",
    "- la longueur totale (TotalLength) ;\n",
    "- la hauteur (Height) ;\n",
    "- la largeur (Width).\n",
    "\n",
    "\n",
    "          ___/////___                  _\n",
    "         /           \\    ___          |\n",
    "       /\\             \\_ /  /          H\n",
    "     <   )            __)  \\           |\n",
    "       \\/_\\\\_________/   \\__\\          _\n",
    "\n",
    "     |------- SL -------|\n",
    "     |------- NSL ---------|\n",
    "     |------- TL ------------|"
   ]
  },
  {
   "cell_type": "code",
   "execution_count": 1,
   "metadata": {},
   "outputs": [],
   "source": [
    "using CSV \n",
    "using DataFrames\n",
    "using Distributions\n",
    "using Gadfly\n",
    "using LinearAlgebra\n",
    "using Statistics"
   ]
  },
  {
   "cell_type": "markdown",
   "metadata": {},
   "source": [
    "## Chargement des données"
   ]
  },
  {
   "cell_type": "code",
   "execution_count": 2,
   "metadata": {},
   "outputs": [
    {
     "data": {
      "text/html": [
       "<div><div style = \"float: left;\"><span>10×7 DataFrame</span></div><div style = \"clear: both;\"></div></div><div class = \"data-frame\" style = \"overflow-x: scroll;\"><table class = \"data-frame\" style = \"margin-bottom: 6px;\"><thead><tr class = \"header\"><th class = \"rowNumber\" style = \"font-weight: bold; text-align: right;\">Row</th><th style = \"text-align: left;\">Species</th><th style = \"text-align: left;\">Weight</th><th style = \"text-align: left;\">StandardLength</th><th style = \"text-align: left;\">NonStandardLength</th><th style = \"text-align: left;\">TotalLength</th><th style = \"text-align: left;\">Height</th><th style = \"text-align: left;\">Width</th></tr><tr class = \"subheader headerLastRow\"><th class = \"rowNumber\" style = \"font-weight: bold; text-align: right;\"></th><th title = \"String15\" style = \"text-align: left;\">String15</th><th title = \"Float64\" style = \"text-align: left;\">Float64</th><th title = \"Float64\" style = \"text-align: left;\">Float64</th><th title = \"Float64\" style = \"text-align: left;\">Float64</th><th title = \"Float64\" style = \"text-align: left;\">Float64</th><th title = \"Float64\" style = \"text-align: left;\">Float64</th><th title = \"Float64\" style = \"text-align: left;\">Float64</th></tr></thead><tbody><tr><td class = \"rowNumber\" style = \"font-weight: bold; text-align: right;\">1</td><td style = \"text-align: left;\">Brème</td><td style = \"text-align: right;\">242.0</td><td style = \"text-align: right;\">23.2</td><td style = \"text-align: right;\">25.4</td><td style = \"text-align: right;\">30.0</td><td style = \"text-align: right;\">11.5</td><td style = \"text-align: right;\">4.0</td></tr><tr><td class = \"rowNumber\" style = \"font-weight: bold; text-align: right;\">2</td><td style = \"text-align: left;\">Brème</td><td style = \"text-align: right;\">290.0</td><td style = \"text-align: right;\">24.0</td><td style = \"text-align: right;\">26.3</td><td style = \"text-align: right;\">31.2</td><td style = \"text-align: right;\">12.5</td><td style = \"text-align: right;\">4.3</td></tr><tr><td class = \"rowNumber\" style = \"font-weight: bold; text-align: right;\">3</td><td style = \"text-align: left;\">Brème</td><td style = \"text-align: right;\">340.0</td><td style = \"text-align: right;\">23.9</td><td style = \"text-align: right;\">26.5</td><td style = \"text-align: right;\">31.1</td><td style = \"text-align: right;\">12.4</td><td style = \"text-align: right;\">4.7</td></tr><tr><td class = \"rowNumber\" style = \"font-weight: bold; text-align: right;\">4</td><td style = \"text-align: left;\">Brème</td><td style = \"text-align: right;\">363.0</td><td style = \"text-align: right;\">26.3</td><td style = \"text-align: right;\">29.0</td><td style = \"text-align: right;\">33.5</td><td style = \"text-align: right;\">12.7</td><td style = \"text-align: right;\">4.5</td></tr><tr><td class = \"rowNumber\" style = \"font-weight: bold; text-align: right;\">5</td><td style = \"text-align: left;\">Brème</td><td style = \"text-align: right;\">430.0</td><td style = \"text-align: right;\">26.5</td><td style = \"text-align: right;\">29.0</td><td style = \"text-align: right;\">34.0</td><td style = \"text-align: right;\">12.4</td><td style = \"text-align: right;\">5.1</td></tr><tr><td class = \"rowNumber\" style = \"font-weight: bold; text-align: right;\">6</td><td style = \"text-align: left;\">Brème</td><td style = \"text-align: right;\">450.0</td><td style = \"text-align: right;\">26.8</td><td style = \"text-align: right;\">29.7</td><td style = \"text-align: right;\">34.7</td><td style = \"text-align: right;\">13.6</td><td style = \"text-align: right;\">4.9</td></tr><tr><td class = \"rowNumber\" style = \"font-weight: bold; text-align: right;\">7</td><td style = \"text-align: left;\">Brème</td><td style = \"text-align: right;\">500.0</td><td style = \"text-align: right;\">26.8</td><td style = \"text-align: right;\">29.7</td><td style = \"text-align: right;\">34.5</td><td style = \"text-align: right;\">14.2</td><td style = \"text-align: right;\">5.3</td></tr><tr><td class = \"rowNumber\" style = \"font-weight: bold; text-align: right;\">8</td><td style = \"text-align: left;\">Brème</td><td style = \"text-align: right;\">390.0</td><td style = \"text-align: right;\">27.6</td><td style = \"text-align: right;\">30.0</td><td style = \"text-align: right;\">35.0</td><td style = \"text-align: right;\">12.7</td><td style = \"text-align: right;\">4.7</td></tr><tr><td class = \"rowNumber\" style = \"font-weight: bold; text-align: right;\">9</td><td style = \"text-align: left;\">Brème</td><td style = \"text-align: right;\">450.0</td><td style = \"text-align: right;\">27.6</td><td style = \"text-align: right;\">30.0</td><td style = \"text-align: right;\">35.1</td><td style = \"text-align: right;\">14.0</td><td style = \"text-align: right;\">4.8</td></tr><tr><td class = \"rowNumber\" style = \"font-weight: bold; text-align: right;\">10</td><td style = \"text-align: left;\">Brème</td><td style = \"text-align: right;\">500.0</td><td style = \"text-align: right;\">28.5</td><td style = \"text-align: right;\">30.7</td><td style = \"text-align: right;\">36.2</td><td style = \"text-align: right;\">14.2</td><td style = \"text-align: right;\">5.0</td></tr></tbody></table></div>"
      ],
      "text/latex": [
       "\\begin{tabular}{r|ccccccc}\n",
       "\t& Species & Weight & StandardLength & NonStandardLength & TotalLength & Height & Width\\\\\n",
       "\t\\hline\n",
       "\t& String15 & Float64 & Float64 & Float64 & Float64 & Float64 & Float64\\\\\n",
       "\t\\hline\n",
       "\t1 & Brème & 242.0 & 23.2 & 25.4 & 30.0 & 11.5 & 4.0 \\\\\n",
       "\t2 & Brème & 290.0 & 24.0 & 26.3 & 31.2 & 12.5 & 4.3 \\\\\n",
       "\t3 & Brème & 340.0 & 23.9 & 26.5 & 31.1 & 12.4 & 4.7 \\\\\n",
       "\t4 & Brème & 363.0 & 26.3 & 29.0 & 33.5 & 12.7 & 4.5 \\\\\n",
       "\t5 & Brème & 430.0 & 26.5 & 29.0 & 34.0 & 12.4 & 5.1 \\\\\n",
       "\t6 & Brème & 450.0 & 26.8 & 29.7 & 34.7 & 13.6 & 4.9 \\\\\n",
       "\t7 & Brème & 500.0 & 26.8 & 29.7 & 34.5 & 14.2 & 5.3 \\\\\n",
       "\t8 & Brème & 390.0 & 27.6 & 30.0 & 35.0 & 12.7 & 4.7 \\\\\n",
       "\t9 & Brème & 450.0 & 27.6 & 30.0 & 35.1 & 14.0 & 4.8 \\\\\n",
       "\t10 & Brème & 500.0 & 28.5 & 30.7 & 36.2 & 14.2 & 5.0 \\\\\n",
       "\\end{tabular}\n"
      ],
      "text/plain": [
       "\u001b[1m10×7 DataFrame\u001b[0m\n",
       "\u001b[1m Row \u001b[0m│\u001b[1m Species  \u001b[0m\u001b[1m Weight  \u001b[0m\u001b[1m StandardLength \u001b[0m\u001b[1m NonStandardLength \u001b[0m\u001b[1m TotalLength \u001b[0m\u001b[1m Heig\u001b[0m ⋯\n",
       "     │\u001b[90m String15 \u001b[0m\u001b[90m Float64 \u001b[0m\u001b[90m Float64        \u001b[0m\u001b[90m Float64           \u001b[0m\u001b[90m Float64     \u001b[0m\u001b[90m Floa\u001b[0m ⋯\n",
       "─────┼──────────────────────────────────────────────────────────────────────────\n",
       "   1 │ Brème       242.0            23.2               25.4         30.0     1 ⋯\n",
       "   2 │ Brème       290.0            24.0               26.3         31.2     1\n",
       "   3 │ Brème       340.0            23.9               26.5         31.1     1\n",
       "   4 │ Brème       363.0            26.3               29.0         33.5     1\n",
       "   5 │ Brème       430.0            26.5               29.0         34.0     1 ⋯\n",
       "   6 │ Brème       450.0            26.8               29.7         34.7     1\n",
       "   7 │ Brème       500.0            26.8               29.7         34.5     1\n",
       "   8 │ Brème       390.0            27.6               30.0         35.0     1\n",
       "   9 │ Brème       450.0            27.6               30.0         35.1     1 ⋯\n",
       "  10 │ Brème       500.0            28.5               30.7         36.2     1\n",
       "\u001b[36m                                                               2 columns omitted\u001b[0m"
      ]
     },
     "execution_count": 2,
     "metadata": {},
     "output_type": "execute_result"
    }
   ],
   "source": [
    "data = CSV.read(\"fishweights.csv\", DataFrame)\n",
    "first(data,10)"
   ]
  },
  {
   "cell_type": "markdown",
   "metadata": {},
   "source": [
    "# Exercice 1 - Analyse exploratoire\n",
    "\n",
    "## a) Illustrez les poids en fonction des espèces de poisson\n",
    "\n",
    "**Note :** Avec Gadfly, la variable *x* peut être une variable catégorielle."
   ]
  },
  {
   "cell_type": "code",
   "execution_count": null,
   "metadata": {},
   "outputs": [],
   "source": []
  },
  {
   "cell_type": "markdown",
   "metadata": {},
   "source": [
    "## b) Illustrez les poids en fonction de la longeur standard et des espèces.\n",
    "\n",
    "**Suggestion :** Utilisez l'option *color* de Gadfly pour distinguer les différentes espèces."
   ]
  },
  {
   "cell_type": "code",
   "execution_count": null,
   "metadata": {},
   "outputs": [],
   "source": []
  },
  {
   "cell_type": "markdown",
   "metadata": {},
   "source": [
    "## c) Calculez le poids moyen pour chaque espèce ainsi que le nombre d'observations pour chaque espèce.\n",
    "\n",
    "Les fonctions `combine()` et `groupby()` permettent d'effectuer rapidement ces tâches. Puisqu'elles ne sont pas intuitives, je vous donne d'emblée la réponse. C'est une combinaison de commandes qui pourra vous être utile dans tout le cours."
   ]
  },
  {
   "cell_type": "code",
   "execution_count": null,
   "metadata": {},
   "outputs": [],
   "source": [
    "df = combine(groupby(data, :Species), :Weight => mean => :Weight, :Weight => length => :n)"
   ]
  },
  {
   "cell_type": "markdown",
   "metadata": {},
   "source": [
    "# Exercice 2 - Ajustement *vs* prédiction\n",
    "\n",
    "Dans cet excercice, on considère le **poids** des éperlans en fonction de la **longueur standard**. On utilisera un ensemble d'entraînement ainsi qu'un ensemble de validation pour évaluer l'erreur de prédiction sur des données non utilisées pour l'estimation des paramètres."
   ]
  },
  {
   "cell_type": "code",
   "execution_count": null,
   "metadata": {},
   "outputs": [],
   "source": [
    "\"\"\"\n",
    "    construct_structure(x::Vector{<:Real}, order::Int)\n",
    "\n",
    "Construction de la matrice de structure du modèle polynomial d'ordre `order` à partir du vecteur `x`.\n",
    "\"\"\"\n",
    "function construct_structure(x::Vector{<:Real}, order::Int)\n",
    "    \n",
    "    X = Array{Float64}(undef, length(x), order+1)\n",
    "    \n",
    "    for p in 0:order\n",
    "       X[:,p+1] = x.^p \n",
    "    end\n",
    "    \n",
    "    return X\n",
    "    \n",
    "end"
   ]
  },
  {
   "cell_type": "markdown",
   "metadata": {},
   "source": [
    "## a) Construction de l'ensemble d'entraînement et de validation pour les éperlans"
   ]
  },
  {
   "cell_type": "code",
   "execution_count": null,
   "metadata": {},
   "outputs": [],
   "source": []
  },
  {
   "cell_type": "markdown",
   "metadata": {},
   "source": [
    "## b) Modèle linéaire\n",
    "\n",
    "1. Estimez la droite de régression avec les données de l'ensemble d'entraînement.\n",
    "2. Tracez la droite de régression ainsi que les points de l'ensemble d'entraînement.\n",
    "3. Ajoutez les points de validation sur le graphique avec une autre couleur.\n",
    "\n",
    "**Suggestion :** Utilisez la fonction `layer()` de Gadfly pour ajouter plusieurs couches à un graphique."
   ]
  },
  {
   "cell_type": "code",
   "execution_count": null,
   "metadata": {},
   "outputs": [],
   "source": []
  },
  {
   "cell_type": "code",
   "execution_count": null,
   "metadata": {},
   "outputs": [],
   "source": []
  },
  {
   "cell_type": "markdown",
   "metadata": {},
   "source": [
    "## c) Modèle cubique\n",
    "\n",
    "1. Estimez les paramètres du modèle cubique en utilisant les données de l'ensemble d'entraînement.\n",
    "2. Tracez la courbe donnée par le modèle ainsi que les points de l'ensemble d'entraînement.\n",
    "3. Ajoutez les points de validation sur le graphique avec une autre couleur.\n",
    "\n",
    "**Suggestion :** Utilisez la fonction `construct_structure()` fournie pour construire la matrice de structure pour le modèle cubique avec `order=3`."
   ]
  },
  {
   "cell_type": "code",
   "execution_count": null,
   "metadata": {},
   "outputs": [],
   "source": []
  },
  {
   "cell_type": "code",
   "execution_count": null,
   "metadata": {},
   "outputs": [],
   "source": []
  },
  {
   "cell_type": "code",
   "execution_count": null,
   "metadata": {},
   "outputs": [],
   "source": []
  },
  {
   "cell_type": "markdown",
   "metadata": {},
   "source": [
    "## d) Modèle d'ordre 6\n",
    "\n",
    "1. Estimez les paramètres du modèle d'ordre 6 en utilisant les données de l'ensemble d'entraînement.\n",
    "2. Tracez la courbe donnée par le modèle ainsi que les points de l'ensemble d'entraînement.\n",
    "3. Ajoutez les points de validation sur le graphique avec une autre couleur.\n",
    "\n",
    "**Suggestion :** Utilisez la fonction `construct_structure()` fournie pour construire la matrice de structure pour le modèle cubique avec `order=6`."
   ]
  },
  {
   "cell_type": "code",
   "execution_count": null,
   "metadata": {},
   "outputs": [],
   "source": []
  },
  {
   "cell_type": "code",
   "execution_count": null,
   "metadata": {},
   "outputs": [],
   "source": []
  },
  {
   "cell_type": "code",
   "execution_count": null,
   "metadata": {},
   "outputs": [],
   "source": []
  },
  {
   "cell_type": "markdown",
   "metadata": {},
   "source": [
    "## e) Calcul de la qualité d'ajustement et de l'erreur de prédiction\n",
    "\n",
    "Pour les modèles d'ordre 0 à 6, calculez \n",
    "- le coefficient de détermination\n",
    "- le coefficient de détermination ajusté\n",
    "- l'erreur quadratique moyenne (MSE) sur l'échantillon de validation.\n",
    "\n",
    "**Suggestion :** Ajoutez une ligne au tableau `df` proposé pour chacun des ordre de modèle avec la fonction `push!()`.\n"
   ]
  },
  {
   "cell_type": "code",
   "execution_count": null,
   "metadata": {},
   "outputs": [],
   "source": []
  },
  {
   "cell_type": "code",
   "execution_count": null,
   "metadata": {},
   "outputs": [],
   "source": []
  },
  {
   "cell_type": "code",
   "execution_count": null,
   "metadata": {},
   "outputs": [],
   "source": []
  },
  {
   "cell_type": "markdown",
   "metadata": {},
   "source": [
    "## f) Sélection du meilleur modèle\n",
    "\n",
    "Selon vous, quel est le meilleur modèle ?"
   ]
  },
  {
   "cell_type": "code",
   "execution_count": null,
   "metadata": {},
   "outputs": [],
   "source": []
  },
  {
   "cell_type": "markdown",
   "metadata": {},
   "source": [
    "# Exercice 3 - Poids des perches\n",
    "\n",
    "Dans cet exercice, on étudie la présence de multicolinéarité dans les variables explicatives pour les perches."
   ]
  },
  {
   "cell_type": "code",
   "execution_count": null,
   "metadata": {},
   "outputs": [],
   "source": [
    "perche = filter(row -> row.Species == \"Perche\", data)\n",
    "n = size(perche,1)\n",
    "first(perche, 10)"
   ]
  },
  {
   "cell_type": "markdown",
   "metadata": {},
   "source": [
    "## a) Détection de la multicolinéarité.\n",
    "\n",
    "Calculez le facteur d'inflation de la variance VIF pour les variables explicatives de la perche. Déterminez s'il y a multicolinéarité."
   ]
  },
  {
   "cell_type": "code",
   "execution_count": null,
   "metadata": {},
   "outputs": [],
   "source": []
  },
  {
   "cell_type": "code",
   "execution_count": null,
   "metadata": {},
   "outputs": [],
   "source": []
  },
  {
   "cell_type": "code",
   "execution_count": null,
   "metadata": {},
   "outputs": [],
   "source": []
  },
  {
   "cell_type": "markdown",
   "metadata": {},
   "source": [
    "## b) Vérification visuelle de la multicolinéarité\n",
    "\n",
    "Illustrez la :NonStandardLength en fonction de la :StandardLength. Est-ce que ça corrobore le fait que la multicolinéarité ait été détectée à la question précédente ?"
   ]
  },
  {
   "cell_type": "code",
   "execution_count": null,
   "metadata": {},
   "outputs": [],
   "source": []
  },
  {
   "cell_type": "markdown",
   "metadata": {},
   "source": [
    "## c) Sélection d'un sous-ensemble des variables explicatives \n",
    "\n",
    "Sélectionnez un sous-ensemble des variables explicatives pour lequel il n'y a pas de multicolinéarité."
   ]
  },
  {
   "cell_type": "markdown",
   "metadata": {},
   "source": [
    "Toutes les variables explicatives sont toutes liées linéairement entre elles. Pour éviter la multicolinéarité, il faut choisir une seule variable."
   ]
  },
  {
   "cell_type": "code",
   "execution_count": null,
   "metadata": {},
   "outputs": [],
   "source": []
  },
  {
   "cell_type": "markdown",
   "metadata": {},
   "source": [
    "## c)  Identification du meilleur modèle de régression linéaire simple\n",
    "\n",
    "Puisqu'il y a présence de multicolinéarité entre toutes les variables, on cherche le meilleur modèle unidimensionnel. Utilisez le critère de votre choix pour l'identifier.\n",
    "\n",
    "**Suggestion :** Vous pouvez transformer la variable d'intérêt pour trouver le meilleur modèle linéaire unidimensionnel."
   ]
  },
  {
   "cell_type": "code",
   "execution_count": null,
   "metadata": {},
   "outputs": [],
   "source": []
  },
  {
   "cell_type": "markdown",
   "metadata": {},
   "source": [
    "## d) Vérification des hypothèses de la régression\n",
    "\n",
    "Vérifiez si les hypothèses 1 à 4 de la régression sont satisfaites. Pour ce faire, tracer les graphiques suivants :\n",
    "- le nuage des points {(ŷᵢ, eᵢ) : 1 ≤ i ≤ n} pour vérifier les hypothèses 1 et 2\n",
    "- la droite de Henry pour vérifier l'hypothèse 4.\n",
    "\n",
    "**Suggestion :** Vous pouvez utiliser la fonction `henryplot()` fournie pour tracer le diagramme quantile-quantile entre la loi normale et les résidus.\n"
   ]
  },
  {
   "cell_type": "code",
   "execution_count": null,
   "metadata": {},
   "outputs": [],
   "source": [
    "function henryplot(y::Vector{<:Real})\n",
    "\n",
    "    n = length(y)\n",
    "    ysorted = sort(y)\n",
    "\n",
    "    p = ( collect(1:n) .- .5 ) /n\n",
    "\n",
    "    fd = fit(Normal,y)\n",
    "\n",
    "    q = quantile.(fd,p)\n",
    "\n",
    "    plot(x=ysorted, y=q, Geom.point,\n",
    "    Guide.xlabel(\"Empirical quantiles\"), Guide.ylabel(\"Estimated quantiles\"),\n",
    "    Theme(discrete_highlight_color=c->nothing),\n",
    "    Geom.abline(color=\"red\"))\n",
    "\n",
    "end"
   ]
  },
  {
   "cell_type": "code",
   "execution_count": null,
   "metadata": {},
   "outputs": [],
   "source": []
  },
  {
   "cell_type": "markdown",
   "metadata": {},
   "source": [
    "## e) Relation pour les poids originaux\n",
    "\n",
    "Tracez le nuage de points illustrant les poids originaux des perches (dans le cas où vous auriez fait une transformation) en fonction votre variable explicative ainsi que la relation obtenue.\n",
    "\n",
    "**Suggestion :** Utilisez la fonction `layer()` pour superposer plusieurs couches sur un graphique."
   ]
  },
  {
   "cell_type": "code",
   "execution_count": null,
   "metadata": {},
   "outputs": [],
   "source": []
  },
  {
   "cell_type": "markdown",
   "metadata": {},
   "source": [
    "# Exercice 4 : Recherche du meilleur modèle possible\n",
    "\n",
    "Dans cet exercice, on cherche le meilleur modèle pour prédire le poids de perches. J'ai l'impression que les modèles suivants pourraient être pertinents :\n",
    "- X = StandardLength * Width * Height (on suppose que le poisson est de la forme d'un prisme rectangulaire)\n",
    "- X = StandardLength * Width^2 (on suppose que le poisson est un cylindre)\n",
    "- etc.\n",
    "\n",
    "C'est votre travail de créer de nouvelles variables explicatives à partir de celle que vous avez pour rechercher le meilleur modèle possible."
   ]
  },
  {
   "cell_type": "code",
   "execution_count": null,
   "metadata": {},
   "outputs": [],
   "source": []
  },
  {
   "cell_type": "code",
   "execution_count": null,
   "metadata": {},
   "outputs": [],
   "source": []
  },
  {
   "cell_type": "code",
   "execution_count": null,
   "metadata": {},
   "outputs": [],
   "source": []
  }
 ],
 "metadata": {
  "@webio": {
   "lastCommId": null,
   "lastKernelId": null
  },
  "hide_input": false,
  "kernelspec": {
   "display_name": "Julia 1.9.3",
   "language": "julia",
   "name": "julia-1.9"
  },
  "language_info": {
   "file_extension": ".jl",
   "mimetype": "application/julia",
   "name": "julia",
   "version": "1.9.3"
  }
 },
 "nbformat": 4,
 "nbformat_minor": 2
}
